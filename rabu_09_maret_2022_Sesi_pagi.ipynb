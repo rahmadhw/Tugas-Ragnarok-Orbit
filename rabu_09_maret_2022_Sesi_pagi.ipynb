{
 "cells": [
  {
   "cell_type": "markdown",
   "id": "71c6f9ea",
   "metadata": {},
   "source": [
    "## Basic Statistic"
   ]
  },
  {
   "cell_type": "code",
   "execution_count": null,
   "id": "91d7ca17",
   "metadata": {},
   "outputs": [],
   "source": [
    "import sys\n",
    "import scipy"
   ]
  },
  {
   "cell_type": "code",
   "execution_count": 1,
   "id": "2d2636ad",
   "metadata": {},
   "outputs": [],
   "source": [
    "import numpy as np\n",
    "# Creating a Basic Array in Numpy\n",
    "X=np.array([1,2,3,5,5])"
   ]
  },
  {
   "cell_type": "markdown",
   "id": "b52db66f",
   "metadata": {},
   "source": [
    "## Mean"
   ]
  },
  {
   "cell_type": "code",
   "execution_count": 2,
   "id": "cfafae45",
   "metadata": {},
   "outputs": [
    {
     "name": "stdout",
     "output_type": "stream",
     "text": [
      "Data [1 2 3 5 5]\n",
      "Mean: 3.2\n"
     ]
    }
   ],
   "source": [
    "# Mean using Numpy\n",
    "print(\"Data\",X)\n",
    "print(\"Mean:\",np.mean(X))"
   ]
  },
  {
   "cell_type": "markdown",
   "id": "8f7af7ba",
   "metadata": {},
   "source": [
    "## Median"
   ]
  },
  {
   "cell_type": "code",
   "execution_count": 3,
   "id": "ab029863",
   "metadata": {},
   "outputs": [
    {
     "name": "stdout",
     "output_type": "stream",
     "text": [
      "Data [1 2 3 5 5]\n",
      "Median 3.0\n"
     ]
    }
   ],
   "source": [
    "# Finding Median of X\n",
    "print(\"Data\",X)\n",
    "print(\"Median\",np.median(X))"
   ]
  },
  {
   "cell_type": "markdown",
   "id": "16d55397",
   "metadata": {},
   "source": [
    "## Mode"
   ]
  },
  {
   "cell_type": "code",
   "execution_count": 4,
   "id": "d233b97f",
   "metadata": {},
   "outputs": [
    {
     "data": {
      "text/plain": [
       "(array([1, 2, 3, 5]), array([1, 1, 1, 2], dtype=int64))"
      ]
     },
     "execution_count": 4,
     "metadata": {},
     "output_type": "execute_result"
    }
   ],
   "source": [
    "np.unique(X, return_counts=True)"
   ]
  },
  {
   "cell_type": "code",
   "execution_count": 5,
   "id": "cdc81119",
   "metadata": {},
   "outputs": [
    {
     "name": "stdout",
     "output_type": "stream",
     "text": [
      "Data [1 2 3 5 5]\n"
     ]
    },
    {
     "data": {
      "text/plain": [
       "(array([1, 2, 3, 5]), array([1, 1, 1, 2], dtype=int64))"
      ]
     },
     "execution_count": 5,
     "metadata": {},
     "output_type": "execute_result"
    }
   ],
   "source": [
    "# Finding Mode using numpy\n",
    "print(\"Data\",X)\n",
    "val, count = np.unique(X, return_counts=True)\n",
    "val, count"
   ]
  },
  {
   "cell_type": "code",
   "execution_count": 6,
   "id": "ba6a42e7",
   "metadata": {},
   "outputs": [
    {
     "data": {
      "text/plain": [
       "array([1, 1, 1, 2], dtype=int64)"
      ]
     },
     "execution_count": 6,
     "metadata": {},
     "output_type": "execute_result"
    }
   ],
   "source": [
    "count"
   ]
  },
  {
   "cell_type": "code",
   "execution_count": 7,
   "id": "71c8fca0",
   "metadata": {},
   "outputs": [
    {
     "name": "stdout",
     "output_type": "stream",
     "text": [
      "Index:  3\n",
      "Mode numpy: 5\n"
     ]
    }
   ],
   "source": [
    "index = np.argmax(count)\n",
    "print(\"Index: \", index)\n",
    "print(\"Mode numpy:\",val[index])"
   ]
  },
  {
   "cell_type": "code",
   "execution_count": 8,
   "id": "8bce99a9",
   "metadata": {},
   "outputs": [
    {
     "name": "stdout",
     "output_type": "stream",
     "text": [
      "Mode scipy: ModeResult(mode=array([5]), count=array([2]))\n"
     ]
    }
   ],
   "source": [
    "# Finding Mode using Scipy\n",
    "\n",
    "from scipy import stats\n",
    "\n",
    "print(\"Mode scipy:\",stats.mode(X))\n",
    "modus = stats.mode(X)"
   ]
  },
  {
   "cell_type": "code",
   "execution_count": 9,
   "id": "9e20f07d",
   "metadata": {},
   "outputs": [
    {
     "data": {
      "text/plain": [
       "ModeResult(mode=array([5]), count=array([2]))"
      ]
     },
     "execution_count": 9,
     "metadata": {},
     "output_type": "execute_result"
    }
   ],
   "source": [
    "modus"
   ]
  },
  {
   "cell_type": "markdown",
   "id": "79c6ecd8",
   "metadata": {},
   "source": [
    "## Measures of Spread"
   ]
  },
  {
   "cell_type": "markdown",
   "id": "b1dad338",
   "metadata": {},
   "source": [
    "## Range"
   ]
  },
  {
   "cell_type": "code",
   "execution_count": 10,
   "id": "be1395a7",
   "metadata": {},
   "outputs": [
    {
     "name": "stdout",
     "output_type": "stream",
     "text": [
      "Data  [1 2 3 5 5]\n",
      "Range  4\n"
     ]
    }
   ],
   "source": [
    "# Calculating the Range\n",
    "print(\"Data \",X)\n",
    "print(\"Range \",X.max()-X.min())"
   ]
  },
  {
   "cell_type": "markdown",
   "id": "10330360",
   "metadata": {},
   "source": [
    "## QUARTILES AND IQR(Interquartile Range)"
   ]
  },
  {
   "cell_type": "code",
   "execution_count": 11,
   "id": "b3065930",
   "metadata": {},
   "outputs": [
    {
     "name": "stdout",
     "output_type": "stream",
     "text": [
      "Data [ 1  3  4  5  5  6  7 11]\n",
      "\n",
      "Quartile 1: 3.5\n",
      "Quartile 2: 5.0\n",
      "Quartile 3: 6.5\n",
      "\n",
      "Interquartile Range 3.0\n"
     ]
    }
   ],
   "source": [
    "# Defining Data\n",
    "data1=np.array([1, 3, 4, 5, 5, 6, 7, 11])\n",
    "print(\"Data\",data1)\n",
    "\n",
    "# First quartile (Q1)\n",
    "Q1 = np.quantile(data1, .25, interpolation = 'midpoint')\n",
    "print(\"\\nQuartile 1:\",Q1)\n",
    " \n",
    "# Second quartile (Q2)\n",
    "Q2 = np.quantile(data1, .50, interpolation = 'midpoint')\n",
    "print(\"Quartile 2:\",Q2)\n",
    "\n",
    "# Third quartile (Q3)\n",
    "Q3 = np.quantile(data1, .75, interpolation = 'midpoint')\n",
    "print(\"Quartile 3:\",Q3)\n",
    "\n",
    "# Interquaritle range (IQR)\n",
    "IQR = Q3 - Q1\n",
    "print(\"\\nInterquartile Range\",IQR)"
   ]
  },
  {
   "cell_type": "markdown",
   "id": "7b203965",
   "metadata": {},
   "source": [
    "## PERCENTILES"
   ]
  },
  {
   "cell_type": "code",
   "execution_count": 12,
   "id": "2eb2ab31",
   "metadata": {},
   "outputs": [
    {
     "name": "stdout",
     "output_type": "stream",
     "text": [
      "Data [ 1  3  4  5  5  6  7 11]\n",
      "20th Percentile: 3.4\n"
     ]
    }
   ],
   "source": [
    "print(\"Data\",data1)\n",
    "percentile_20 = np.percentile(data1,20)\n",
    "print(\"20th Percentile:\",round(percentile_20,2))"
   ]
  },
  {
   "cell_type": "markdown",
   "id": "d1ac1d83",
   "metadata": {},
   "source": [
    "## VARIANCE AND STANDARD DEVIATION"
   ]
  },
  {
   "cell_type": "code",
   "execution_count": 13,
   "id": "2d51591f",
   "metadata": {},
   "outputs": [
    {
     "name": "stdout",
     "output_type": "stream",
     "text": [
      "Data [ 1  3  4  5  5  6  7 11]\n",
      "Varaince: 8.785714285714286\n",
      "Standard Deviation: 2.7726341266023544\n",
      "Standard Deviation: 2.9640705601780613\n"
     ]
    }
   ],
   "source": [
    "import numpy as np\n",
    "\n",
    "data1=np.array([1, 3, 4, 5, 5, 6, 7, 11])\n",
    "\n",
    "print(\"Data\",data1)\n",
    "\n",
    "'''\n",
    "    \"Delta Degrees of Freedom\": the divisor used in the calculation is\n",
    "    ``N - ddof``, where ``N`` represents the number of elements. By\n",
    "    default `ddof` is zero.\n",
    "'''\n",
    "print(\"Varaince:\",np.var(data1,ddof=1))\n",
    "print(\"Standard Deviation:\",np.std(data1,ddof=0))\n",
    "print(\"Standard Deviation:\",np.std(data1,ddof=1)) "
   ]
  },
  {
   "cell_type": "code",
   "execution_count": 14,
   "id": "3fb5d2c7",
   "metadata": {},
   "outputs": [
    {
     "name": "stdout",
     "output_type": "stream",
     "text": [
      "Nilai Mean E :  78.0\n",
      "Nilai Range E : 40\n",
      "Nilai Varians E : 116.0\n",
      "Nilai Standart Deviasi E:  10.770329614269007\n",
      "Nilai Standart Deviasi E:  11.352924243950934\n"
     ]
    }
   ],
   "source": [
    "import numpy as np\n",
    "import statistics\n",
    "\n",
    "E = [60,70,70,70,80,80,80,80,90,100]\n",
    "F = [75,75,75,75,80,80,80,80,80,80]\n",
    "\n",
    "# mean\n",
    "print(\"Nilai Mean E : \", np.mean(E))\n",
    "\n",
    "# range\n",
    "print(\"Nilai Range E :\", np.max(E) - np.min(E))\n",
    "\n",
    "# varians\n",
    "print(\"Nilai Varians E :\", np.var(E))\n",
    "\n",
    "# Standart Deviasi\n",
    "print(\"Nilai Standart Deviasi E: \", np.std(E))\n",
    "print(\"Nilai Standart Deviasi E: \", statistics.stdev(E)) "
   ]
  },
  {
   "cell_type": "markdown",
   "id": "c31c86c0",
   "metadata": {},
   "source": [
    "## COVARIANCE AND CORRELATION"
   ]
  },
  {
   "cell_type": "markdown",
   "id": "82874cdc",
   "metadata": {},
   "source": [
    "## COVARIANCE"
   ]
  },
  {
   "cell_type": "code",
   "execution_count": 15,
   "id": "91a46f8f",
   "metadata": {},
   "outputs": [
    {
     "name": "stdout",
     "output_type": "stream",
     "text": [
      "[1 2 3 4 5 6 7 8 9]\n",
      "[9 8 7 6 5 4 3 2 1]\n",
      "\n",
      "Covariance  -7.5\n"
     ]
    }
   ],
   "source": [
    "x = np.array([1,2,3,4,5,6,7,8,9])\n",
    "print(x)\n",
    "y = np.array([9,8,7,6,5,4,3,2,1])\n",
    "print(y)\n",
    "\n",
    "print(\"\\nCovariance \",np.cov(x,y)[0,1])"
   ]
  },
  {
   "cell_type": "markdown",
   "id": "52ea5e33",
   "metadata": {},
   "source": [
    "## CORRELATION"
   ]
  },
  {
   "cell_type": "code",
   "execution_count": 16,
   "id": "8c05eb35",
   "metadata": {},
   "outputs": [
    {
     "name": "stdout",
     "output_type": "stream",
     "text": [
      "[[ 1. -1.]\n",
      " [-1.  1.]]\n"
     ]
    }
   ],
   "source": [
    "print(np.corrcoef(x,y))"
   ]
  },
  {
   "cell_type": "markdown",
   "id": "0850dbd5",
   "metadata": {},
   "source": [
    "## KURTOSIS"
   ]
  },
  {
   "cell_type": "code",
   "execution_count": 17,
   "id": "8616ebbb",
   "metadata": {},
   "outputs": [
    {
     "name": "stdout",
     "output_type": "stream",
     "text": [
      "Kurtosis -1.2002400240024003\n"
     ]
    }
   ],
   "source": [
    "data2=np.linspace(-5,5,100)\n",
    "print(\"Kurtosis\",stats.kurtosis(data2))"
   ]
  },
  {
   "cell_type": "markdown",
   "id": "3ceea9ee",
   "metadata": {},
   "source": [
    "## SKEWNESS"
   ]
  },
  {
   "cell_type": "code",
   "execution_count": 18,
   "id": "94000f9c",
   "metadata": {},
   "outputs": [
    {
     "data": {
      "text/html": [
       "<script>\n",
       "code_show=true; \n",
       "function code_toggle() {\n",
       "    if (code_show){\n",
       "        $('div.cell.code_cell.rendered.selected div.input').hide();\n",
       "    } else {\n",
       "        $('div.cell.code_cell.rendered.selected div.input').show();\n",
       "    }\n",
       "    code_show = !code_show\n",
       "} \n",
       "$( document ).ready(code_toggle);\n",
       "</script>\n",
       "To show/hide this cell's raw code input, click <a href=\"javascript:code_toggle()\">here</a>."
      ],
      "text/plain": [
       "<IPython.core.display.HTML object>"
      ]
     },
     "metadata": {},
     "output_type": "display_data"
    },
    {
     "data": {
      "image/png": "[encoded data removed]",
      "text/plain": [
       "<Figure size 432x288 with 1 Axes>"
      ]
     },
     "metadata": {
      "needs_background": "light"
     },
     "output_type": "display_data"
    }
   ],
   "source": [
    "from IPython.display import HTML\n",
    "from IPython.display import display\n",
    "\n",
    "# Taken from https://stackoverflow.com/questions/31517194/how-to-hide-one-specific-cell-input-or-output-in-ipython-notebook\n",
    "tag = HTML('''<script>\n",
    "code_show=true; \n",
    "function code_toggle() {\n",
    "    if (code_show){\n",
    "        $('div.cell.code_cell.rendered.selected div.input').hide();\n",
    "    } else {\n",
    "        $('div.cell.code_cell.rendered.selected div.input').show();\n",
    "    }\n",
    "    code_show = !code_show\n",
    "} \n",
    "$( document ).ready(code_toggle);\n",
    "</script>\n",
    "To show/hide this cell's raw code input, click <a href=\"javascript:code_toggle()\">here</a>.''')\n",
    "display(tag)\n",
    "\n",
    "\n",
    "\n",
    "from scipy.stats import skewnorm\n",
    "import matplotlib.pyplot as plt\n",
    "\n",
    "numValues = 10000\n",
    "maxValue = 100\n",
    "skewness = -5   #Negative values are left skewed, positive values are right skewed.\n",
    "\n",
    "random = skewnorm.rvs(a = skewness,loc=maxValue, size=numValues)  #Skewnorm function\n",
    "\n",
    "random = random - min(random)      #Shift the set so the minimum value is equal to zero.\n",
    "random = random / max(random)      #Standadize all the vlues between 0 and 1. \n",
    "random = random * maxValue         #Multiply the standardized values by the maximum value.\n",
    "\n",
    "#Plot histogram to check skewness\n",
    "plt.hist(random,30,density=True, color = 'red', alpha=0.1)\n",
    "plt.show()"
   ]
  },
  {
   "cell_type": "code",
   "execution_count": 19,
   "id": "b6930829",
   "metadata": {},
   "outputs": [
    {
     "name": "stdout",
     "output_type": "stream",
     "text": [
      "Skewness -2.8663736585314984e-17\n"
     ]
    }
   ],
   "source": [
    "print(\"Skewness\",stats.skew(data2))"
   ]
  },
  {
   "cell_type": "markdown",
   "id": "749bc71c",
   "metadata": {},
   "source": [
    "## Eigen Vector"
   ]
  },
  {
   "cell_type": "code",
   "execution_count": 20,
   "id": "b72b6ba3",
   "metadata": {},
   "outputs": [
    {
     "data": {
      "text/plain": [
       "matrix([[4, 2, 3],\n",
       "        [6, 7, 5],\n",
       "        [3, 6, 1]])"
      ]
     },
     "execution_count": 20,
     "metadata": {},
     "output_type": "execute_result"
    }
   ],
   "source": [
    "import numpy as np\n",
    "x = np.matrix([[4,2,3],[6,7,5],[3,6,1]])\n",
    "x"
   ]
  },
  {
   "cell_type": "code",
   "execution_count": 21,
   "id": "d9457785",
   "metadata": {},
   "outputs": [
    {
     "data": {
      "text/plain": [
       "array([[1., 0., 0.],\n",
       "       [0., 1., 0.],\n",
       "       [0., 0., 1.]])"
      ]
     },
     "execution_count": 21,
     "metadata": {},
     "output_type": "execute_result"
    }
   ],
   "source": [
    "e = np.eye(3)\n",
    "e"
   ]
  },
  {
   "cell_type": "code",
   "execution_count": 22,
   "id": "e3ae674c",
   "metadata": {},
   "outputs": [
    {
     "data": {
      "text/plain": [
       "(array([12.76222365,  1.17374428, -1.93596793]),\n",
       " matrix([[-0.35090794, -0.78464131, -0.36647301],\n",
       "         [-0.79489403,  0.40589024, -0.25466269],\n",
       "         [-0.49498192,  0.4686055 ,  0.89489913]]))"
      ]
     },
     "execution_count": 22,
     "metadata": {},
     "output_type": "execute_result"
    }
   ],
   "source": [
    "# creating a new matrix which  is linear transformation of x\n",
    "m = x + 45*e\n",
    "np.linalg.eig(x)"
   ]
  },
  {
   "cell_type": "code",
   "execution_count": 23,
   "id": "dc6c7ad4",
   "metadata": {},
   "outputs": [
    {
     "data": {
      "text/plain": [
       "(array([57.76222365, 46.17374428, 43.06403207]),\n",
       " matrix([[-0.35090794, -0.78464131, -0.36647301],\n",
       "         [-0.79489403,  0.40589024, -0.25466269],\n",
       "         [-0.49498192,  0.4686055 ,  0.89489913]]))"
      ]
     },
     "execution_count": 23,
     "metadata": {},
     "output_type": "execute_result"
    }
   ],
   "source": [
    "np.linalg.eig(m)"
   ]
  }
 ],
 "metadata": {
  "kernelspec": {
   "display_name": "Python 3 (ipykernel)",
   "language": "python",
   "name": "python3"
  },
  "language_info": {
   "codemirror_mode": {
    "name": "ipython",
    "version": 3
   },
   "file_extension": ".py",
   "mimetype": "text/x-python",
   "name": "python",
   "nbconvert_exporter": "python",
   "pygments_lexer": "ipython3",
   "version": "3.9.7"
  }
 },
 "nbformat": 4,
 "nbformat_minor": 5
}
