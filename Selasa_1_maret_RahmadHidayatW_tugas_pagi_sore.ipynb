{
 "cells": [
  {
   "cell_type": "markdown",
   "id": "46d7cb9d",
   "metadata": {},
   "source": [
    "### KELAS PAGI"
   ]
  },
  {
   "cell_type": "markdown",
   "id": "7291ae2b",
   "metadata": {},
   "source": [
    "# Python's Interactive Console : The Interpreter"
   ]
  },
  {
   "cell_type": "code",
   "execution_count": 13,
   "id": "4b5f1ab4",
   "metadata": {},
   "outputs": [
    {
     "name": "stdout",
     "output_type": "stream",
     "text": [
      "hello Wordl!\n"
     ]
    }
   ],
   "source": [
    "print(\"hello Wordl!\")"
   ]
  },
  {
   "cell_type": "markdown",
   "id": "74063cda",
   "metadata": {},
   "source": [
    "# string"
   ]
  },
  {
   "cell_type": "code",
   "execution_count": 14,
   "id": "fa1de3d1",
   "metadata": {},
   "outputs": [
    {
     "name": "stdout",
     "output_type": "stream",
     "text": [
      "helo\n",
      "\n",
      "This is also a string\n"
     ]
    }
   ],
   "source": [
    "#singe world\n",
    "print(\"helo\")\n",
    "print()\n",
    "print(\"This is also a string\")"
   ]
  },
  {
   "cell_type": "markdown",
   "id": "fb420195",
   "metadata": {},
   "source": [
    "# variabel"
   ]
  },
  {
   "cell_type": "code",
   "execution_count": 15,
   "id": "06e0a802",
   "metadata": {},
   "outputs": [
    {
     "name": "stdout",
     "output_type": "stream",
     "text": [
      "New work\n",
      "<class 'str'>\n",
      "8\n"
     ]
    }
   ],
   "source": [
    "s = \"New work\"\n",
    "print(s)\n",
    "print(type(s))\n",
    "print(len(s)) #what's the string length"
   ]
  },
  {
   "cell_type": "markdown",
   "id": "4b6f5f39",
   "metadata": {},
   "source": [
    "# string indexing"
   ]
  },
  {
   "cell_type": "code",
   "execution_count": 16,
   "id": "c2129ebd",
   "metadata": {},
   "outputs": [
    {
     "name": "stdout",
     "output_type": "stream",
     "text": [
      "Hello World\n",
      "\n",
      "H\n",
      "\n",
      "e\n"
     ]
    }
   ],
   "source": [
    "#Asign s as a string\n",
    "s = \"Hello World\"\n",
    "\n",
    "#Print the Object\n",
    "print(s)\n",
    "print()\n",
    "\n",
    "#show first element (in this case a letter)\n",
    "print(s[0])\n",
    "print()\n",
    "\n",
    "#show the second element (Also a letter)\n",
    "print(s[1])"
   ]
  },
  {
   "cell_type": "markdown",
   "id": "aef0af35",
   "metadata": {},
   "source": [
    "# String Concatenation and Repetition"
   ]
  },
  {
   "cell_type": "code",
   "execution_count": 17,
   "id": "568606dd",
   "metadata": {},
   "outputs": [
    {
     "name": "stdout",
     "output_type": "stream",
     "text": [
      "Hello World\n"
     ]
    }
   ],
   "source": [
    "#concatenation(Addition)\n",
    "s1 = \"Hello\"\n",
    "s2 = \"World\"\n",
    "print(s1 + \" \" + s2)"
   ]
  },
  {
   "cell_type": "code",
   "execution_count": 18,
   "id": "b0167402",
   "metadata": {},
   "outputs": [
    {
     "name": "stdout",
     "output_type": "stream",
     "text": [
      "Hello Hello Hello \n",
      "----------\n"
     ]
    }
   ],
   "source": [
    "#repetition(Multiplication)\n",
    "print(\"Hello \" * 3)\n",
    "print(\"-\" * 10)"
   ]
  },
  {
   "cell_type": "markdown",
   "id": "cb0044df",
   "metadata": {},
   "source": [
    "# string Slicing & indexing"
   ]
  },
  {
   "cell_type": "code",
   "execution_count": 21,
   "id": "e3b25739",
   "metadata": {},
   "outputs": [
    {
     "name": "stdout",
     "output_type": "stream",
     "text": [
      "a\n",
      "e Wor\n",
      "Worl\n",
      "True\n"
     ]
    }
   ],
   "source": [
    "s = \"Namaste World\"\n",
    "\n",
    "#print sub strings\n",
    "print(s[1])      #This is indexing\n",
    "print(s[6:11])   #This is known as slicing\n",
    "print(s[-5:-1])\n",
    "\n",
    "#test substring membership\n",
    "print(\"Wor\" in s)"
   ]
  },
  {
   "cell_type": "markdown",
   "id": "36225a93",
   "metadata": {},
   "source": [
    "## Basic Built String methods"
   ]
  },
  {
   "cell_type": "code",
   "execution_count": 1,
   "id": "b1f58b82",
   "metadata": {},
   "outputs": [
    {
     "name": "stdout",
     "output_type": "stream",
     "text": [
      "HELLO WORLD\n",
      "hello world\n"
     ]
    }
   ],
   "source": [
    "s = \"Hello World\"\n",
    "# convert ke huruf besar\n",
    "print(s.upper()) #Convert all the element of the string to upper\n",
    "\n",
    "#convert ke huruf kecil\n",
    "\n",
    "print(s.lower()) #Convert all the element of the string to lower"
   ]
  },
  {
   "cell_type": "markdown",
   "id": "33026a7c",
   "metadata": {},
   "source": [
    "# Print Formating"
   ]
  },
  {
   "cell_type": "code",
   "execution_count": 7,
   "id": "5e93da59",
   "metadata": {},
   "outputs": [
    {
     "name": "stdout",
     "output_type": "stream",
     "text": [
      "My name is  Einstein my age is 22  and it is  True  that I am married \n",
      "My name is Einstein, my age is 22, and it is True that i am married\n",
      "My name is Einstein, my age is 22, and it is True that I am married\n"
     ]
    }
   ],
   "source": [
    "name = \"Einstein\"\n",
    "age = 22\n",
    "married = True\n",
    "\n",
    "print(\"My name is \", name + \" my age is\" , age , \" and it is \" , married , \" that I am married \" )\n",
    "print(\"My name is %s, my age is %s, and it is %s that i am married\" % (name, age, married))\n",
    "print(\"My name is {}, my age is {}, and it is {} that I am married\".format(name, age, married))\n"
   ]
  },
  {
   "cell_type": "markdown",
   "id": "dc2f1c88",
   "metadata": {},
   "source": [
    "# Numbers"
   ]
  },
  {
   "cell_type": "code",
   "execution_count": 11,
   "id": "c4c762b8",
   "metadata": {},
   "outputs": [
    {
     "name": "stdout",
     "output_type": "stream",
     "text": [
      "3\n",
      "1\n",
      "4\n",
      "1.5\n",
      "8\n",
      "105\n",
      "156\n"
     ]
    }
   ],
   "source": [
    "#Addition\n",
    "print(2+1)\n",
    "\n",
    "#Substration\n",
    "print(2-1)\n",
    "\n",
    "#Multiplication\n",
    "print(2*2)\n",
    "\n",
    "#division\n",
    "print(3/2)\n",
    "\n",
    "#ARithmetic continued\n",
    "#power\n",
    "print(2**3)\n",
    "\n",
    "#Order of Operation followed in python\n",
    "print(2 + 10 * 10+ 3)\n",
    "\n",
    "#Can Use parenthesis to specify orders\n",
    "print((2 + 10) * (10+3))\n",
    "\n",
    "\n"
   ]
  },
  {
   "cell_type": "markdown",
   "id": "f36818e1",
   "metadata": {},
   "source": [
    "# Variabel assigment"
   ]
  },
  {
   "cell_type": "code",
   "execution_count": 13,
   "id": "bef2abcd",
   "metadata": {},
   "outputs": [
    {
     "data": {
      "text/plain": [
       "10"
      ]
     },
     "execution_count": 13,
     "metadata": {},
     "output_type": "execute_result"
    }
   ],
   "source": [
    "#Let's create an object called \"a\" and assign it the number 5\n",
    "a = 5\n",
    "\n",
    "#adding the object\n",
    "a + a\n",
    "\n",
    "\n",
    "#Reassigment\n",
    "a = 10\n",
    "a\n",
    "\n"
   ]
  },
  {
   "cell_type": "markdown",
   "id": "f361dcf7",
   "metadata": {},
   "source": [
    "# kelas siang 13-00 - 15-00 "
   ]
  },
  {
   "cell_type": "markdown",
   "id": "cca8c605",
   "metadata": {},
   "source": [
    "# Data types & data Structures"
   ]
  },
  {
   "cell_type": "code",
   "execution_count": 15,
   "id": "19d4bd22",
   "metadata": {},
   "outputs": [
    {
     "name": "stdout",
     "output_type": "stream",
     "text": [
      "<class 'int'>\n",
      "<class 'float'>\n"
     ]
    }
   ],
   "source": [
    "#identify  Data types\n",
    "a = 42\n",
    "b = 32.30\n",
    "\n",
    "print(type(a))\n",
    "print(type(b))"
   ]
  },
  {
   "cell_type": "code",
   "execution_count": 17,
   "id": "3c421869",
   "metadata": {},
   "outputs": [
    {
     "data": {
      "text/plain": [
       "4"
      ]
     },
     "execution_count": 17,
     "metadata": {},
     "output_type": "execute_result"
    }
   ],
   "source": [
    "\n",
    "#list\n",
    "\n",
    "#assign a  list to an variabel named my_list\n",
    "\n",
    "my_list = [1,2,3]\n",
    "my_list = ['A String', 23,100, 'o']\n",
    "\n",
    "len(my_list)\n"
   ]
  },
  {
   "cell_type": "code",
   "execution_count": 18,
   "id": "3ee4e435",
   "metadata": {},
   "outputs": [
    {
     "name": "stdout",
     "output_type": "stream",
     "text": [
      "[1, 2, 3, ['a', 'b'], 'new York', 3.1]\n"
     ]
    }
   ],
   "source": [
    "#Adding New element to a list\n",
    "\n",
    "my_list = ['one', 'two', 'three', 4,5]\n",
    "\n",
    "#appenda a value to the end of the list\n",
    "l = [1,2,3, ['a', 'b'], 'new York']\n",
    "l.append(3.1)\n",
    "print(l)\n",
    "\n"
   ]
  },
  {
   "cell_type": "code",
   "execution_count": 19,
   "id": "202177e4",
   "metadata": {},
   "outputs": [
    {
     "name": "stdout",
     "output_type": "stream",
     "text": [
      "[1, 2, 3, 4, 5, 6]\n"
     ]
    }
   ],
   "source": [
    "#extend a list with another list\n",
    "\n",
    "l = [1,2,3]\n",
    "l.extend([4,5,6])\n",
    "print(l)"
   ]
  },
  {
   "cell_type": "code",
   "execution_count": 23,
   "id": "4e066173",
   "metadata": {},
   "outputs": [
    {
     "name": "stdout",
     "output_type": "stream",
     "text": [
      "[0, 1, 2, 3, 4, 5, 6, 7, 8, 9]\n",
      "elements from index 4 to 7:  [4, 5, 6]\n",
      "alternatif elements, starting at index 0: [0, 2, 4, 6, 8]\n",
      "every third element starting at index 1 [1, 4, 7]\n"
     ]
    }
   ],
   "source": [
    "#slicing\n",
    "\n",
    "lst = list(range(10))\n",
    "print(lst)\n",
    "\n",
    "print(\"elements from index 4 to 7: \", lst[4:7])\n",
    "print(\"alternatif elements, starting at index 0:\", lst[0::2])\n",
    "#prints elements for index 0 till last index with a step of 2\n",
    "\n",
    "print(\"every third element starting at index 1\", lst[1::3])"
   ]
  },
  {
   "cell_type": "code",
   "execution_count": 30,
   "id": "7ac1ff29",
   "metadata": {},
   "outputs": [
    {
     "data": {
      "text/plain": [
       "0"
      ]
     },
     "execution_count": 30,
     "metadata": {},
     "output_type": "execute_result"
    }
   ],
   "source": [
    "#dictinaries\n",
    "\n",
    "my_dict = {'key1': 'value1',\n",
    "            'key2': 'value2'\n",
    "          }\n",
    "\n",
    "my_dict['key2']\n",
    "\n",
    "my_dict['key1'] = 123\n",
    "my_dict\n",
    "\n",
    "my_dict['key1'] = my_dict['key1'] - 123\n",
    "\n",
    "\n",
    "#Check\n",
    "my_dict['key1']"
   ]
  },
  {
   "cell_type": "code",
   "execution_count": 33,
   "id": "191139b4",
   "metadata": {},
   "outputs": [
    {
     "data": {
      "text/plain": [
       "{'animal': 'dog'}"
      ]
     },
     "execution_count": 33,
     "metadata": {},
     "output_type": "execute_result"
    }
   ],
   "source": [
    "\n",
    "#set the object equal to itself minus 123\n",
    "my_dict['key1'] -= 123\n",
    "my_dict['key1']\n",
    "\n",
    "\n",
    "#create a new dictionary\n",
    "d = {}\n",
    "\n",
    "d['animal'] = 'dog'\n",
    "d\n",
    "\n",
    "\n",
    "\n"
   ]
  },
  {
   "cell_type": "code",
   "execution_count": 37,
   "id": "5e448522",
   "metadata": {},
   "outputs": [
    {
     "data": {
      "text/plain": [
       "{1, 2, 3, 4, 5, 6}"
      ]
     },
     "execution_count": 37,
     "metadata": {},
     "output_type": "execute_result"
    }
   ],
   "source": [
    "#set and Boolean\n",
    "\n",
    "#set\n",
    "\n",
    "x = set()\n",
    "x.add(1)\n",
    "x\n",
    "\n",
    "#add a different element\n",
    "\n",
    "x.add(2)\n",
    "x\n",
    "\n",
    "#try to add the same element\n",
    "x.add(1)\n",
    "x\n",
    "\n",
    "\n",
    "#create a list with repearts\n",
    "\n",
    "l = [1,1,2,2,3,4,5,6,1,1]\n",
    "\n",
    "#cast as set to get unique values\n",
    "set(l)\n",
    "\n"
   ]
  }
 ],
 "metadata": {
  "kernelspec": {
   "display_name": "Python 3 (ipykernel)",
   "language": "python",
   "name": "python3"
  },
  "language_info": {
   "codemirror_mode": {
    "name": "ipython",
    "version": 3
   },
   "file_extension": ".py",
   "mimetype": "text/x-python",
   "name": "python",
   "nbconvert_exporter": "python",
   "pygments_lexer": "ipython3",
   "version": "3.9.7"
  }
 },
 "nbformat": 4,
 "nbformat_minor": 5
}
