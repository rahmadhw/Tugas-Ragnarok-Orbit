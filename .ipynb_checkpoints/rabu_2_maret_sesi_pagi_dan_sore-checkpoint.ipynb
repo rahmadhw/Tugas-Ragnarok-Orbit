{
 "cells": [
  {
   "cell_type": "markdown",
   "id": "3709134e",
   "metadata": {},
   "source": [
    "## Soal Kelas Pagi\n",
    "\n",
    "## Soal No 1\n",
    "\n",
    "## Berikut ini adalah tiga variabel yang menyimpan value dengan tipe boolean. Dengan menggunakan variabel tersebut, cobalah untuk mengerjakan soal 1 - 5 ! (Akan lebih seru jika kamu menebak terlebih dahulu hasilnya, kemudian baru implementasikan ke dalam kode program. Jika terdapat error, cobalah untuk menyelesaikannya sendiri terlebih dahulu).\n",
    "\n",
    "\n",
    "## a = False \n",
    "\n",
    "## b = True\n",
    "\n",
    "## c = False\n",
    "\n",
    "\n",
    "\n",
    "## 1. (b and c)  (False)\n",
    " \n",
    "## 2. b or c (True)\n",
    "\n",
    "## 3. not a and b (True)\n",
    "\n",
    "## 4.  (a and b) or not c (True)\n",
    "\n",
    "## 5. not b and not (a or c) (False)\n",
    "\n",
    "\n",
    "\n"
   ]
  },
  {
   "cell_type": "markdown",
   "id": "f1a1b54f",
   "metadata": {},
   "source": [
    "## Soal no 2\n",
    "\n",
    "## di bawah ini terdapat potongan kode program yang masih terdapat error(bug). Selesaikan\n",
    "## permasalahan bug tersebut menggunakan pemahaman yang sudah di pelajari\n",
    "\n",
    "\n",
    "## print(hello!)\n",
    "## something == input(\"enter Something: )\n",
    "## print(\"you entered: ' something)\n",
    "\n"
   ]
  },
  {
   "cell_type": "code",
   "execution_count": 2,
   "id": "0f6cb619",
   "metadata": {},
   "outputs": [
    {
     "name": "stdout",
     "output_type": "stream",
     "text": [
      "Hello!\n",
      "enter Something: rahmad\n",
      "you enterd rahmad\n"
     ]
    }
   ],
   "source": [
    "print(\"Hello!\")\n",
    "something = input(\"enter Something: \")\n",
    "print(\"you enterd\", something)"
   ]
  },
  {
   "cell_type": "markdown",
   "id": "7dc1be01",
   "metadata": {},
   "source": [
    "## Soal No 3\n",
    "\n",
    "## Lakukan hal yang sama seperti pada soal nomor 2\n",
    "\n",
    "## print('Hello!')\n",
    "## something  = input(\"Enter something:  \")\n",
    "## if something = 'hello':\n",
    "##         print(\"Hello For you too!\")\n",
    "## elif  something = \"hi\"\n",
    "##         print(\"Hi there\")\n",
    "## else:\n",
    "##         print(\"I don't know what, \" something, \"means\")"
   ]
  },
  {
   "cell_type": "code",
   "execution_count": 3,
   "id": "e52b4750",
   "metadata": {},
   "outputs": [
    {
     "name": "stdout",
     "output_type": "stream",
     "text": [
      "Hello!\n",
      "Enter something: rahmad\n",
      "I don't know what  rahmad  means\n"
     ]
    }
   ],
   "source": [
    "#cetak hallo\n",
    "print(\"Hello!\")\n",
    "#ambil inputan dari user simpan ke variabel something\n",
    "something = input(\"Enter something: \")\n",
    "\n",
    "#cek jika something sama dengan string hello\n",
    "if something == \"hello\":\n",
    "    #maka cetak Hello for you too!\n",
    "    print(\"Hello for you too!\")\n",
    "#jika something sama dengan string hi\n",
    "elif something == \"hi\":\n",
    "    #maka cetak Hi there\n",
    "    print(\"Hi there\")\n",
    "#jika something tidak sesuai dengan kondisi yang di tetapkan contoh bambang,rido,dan tidak\n",
    "else:\n",
    "    #maka cetak I dont know what, varibel something berisi hasil yang di inputkan oleh user\n",
    "    print(\"I don't know what \", something, \" means\")"
   ]
  },
  {
   "cell_type": "markdown",
   "id": "e09230e7",
   "metadata": {},
   "source": [
    "## Soal No 4\n",
    "\n",
    "## Buatlah program yang dapat mencetak kata halo dan hai sebanyak 100 kali. contoh: halo hai halo hai … 98x !. Pastikan terdapat spasi di antara setiap perulangan kata!"
   ]
  },
  {
   "cell_type": "code",
   "execution_count": 4,
   "id": "7a3bb6b5",
   "metadata": {},
   "outputs": [
    {
     "name": "stdout",
     "output_type": "stream",
     "text": [
      "hai\n",
      "halo\n",
      "hai\n",
      "halo\n",
      "hai\n",
      "halo\n",
      "hai\n",
      "halo\n",
      "hai\n",
      "halo\n",
      "hai\n",
      "halo\n",
      "hai\n",
      "halo\n",
      "hai\n",
      "halo\n",
      "hai\n",
      "halo\n",
      "hai\n",
      "halo\n",
      "hai\n",
      "halo\n",
      "hai\n",
      "halo\n",
      "hai\n",
      "halo\n",
      "hai\n",
      "halo\n",
      "hai\n",
      "halo\n",
      "hai\n",
      "halo\n",
      "hai\n",
      "halo\n",
      "hai\n",
      "halo\n",
      "hai\n",
      "halo\n",
      "hai\n",
      "halo\n",
      "hai\n",
      "halo\n",
      "hai\n",
      "halo\n",
      "hai\n",
      "halo\n",
      "hai\n",
      "halo\n",
      "hai\n",
      "halo\n",
      "hai\n",
      "halo\n",
      "hai\n",
      "halo\n",
      "hai\n",
      "halo\n",
      "hai\n",
      "halo\n",
      "hai\n",
      "halo\n",
      "hai\n",
      "halo\n",
      "hai\n",
      "halo\n",
      "hai\n",
      "halo\n",
      "hai\n",
      "halo\n",
      "hai\n",
      "halo\n",
      "hai\n",
      "halo\n",
      "hai\n",
      "halo\n",
      "hai\n",
      "halo\n",
      "hai\n",
      "halo\n",
      "hai\n",
      "halo\n",
      "hai\n",
      "halo\n",
      "hai\n",
      "halo\n",
      "hai\n",
      "halo\n",
      "hai\n",
      "halo\n",
      "hai\n",
      "halo\n",
      "hai\n",
      "halo\n",
      "hai\n",
      "halo\n",
      "hai\n",
      "halo\n",
      "hai\n",
      "halo\n",
      "hai\n",
      "halo\n"
     ]
    }
   ],
   "source": [
    "#looping i dari 1 sampai dengan 100\n",
    "for i in range(100):\n",
    "    #tambah i dengan 1 karna ingin memulai engan 1\n",
    "    i = i + 1  \n",
    "    #cek i jika sisa bagi dari i sama dengan nol maka genap,genap di cetak sebagai halo\n",
    "    if i % 2 == 0:\n",
    "       #simpan string halo ke variabel name \n",
    "        name = \"halo\"\n",
    "        #cetak variabel name\n",
    "        print(name)\n",
    "    else:\n",
    "        #kondisi else terjadi jika i sisa bagi nya tidak nol maka ganjil,,anggap 1,2,3,dan lain-lain, di cetak sebagai hai \n",
    "        name = \"hai\"\n",
    "        print(name)\n",
    "       \n",
    "   "
   ]
  },
  {
   "cell_type": "markdown",
   "id": "e15daf95",
   "metadata": {},
   "source": [
    "## Soal no 5\n",
    "\n",
    "## Buatlah game suit batu-gunting-kertas sederhana. Di dalam program tersebut terdapat dua orang pemain yang dapat memilih batu/gunting/kertas menggunakan input dari pengguna. Untuk mempermudah penggambaran aturan pemenang dalam game, lengkapilah tabel kemenangan dengan menggunakan semua kemungkinan yang tersedia."
   ]
  },
  {
   "cell_type": "markdown",
   "id": "c6034c83",
   "metadata": {},
   "source": [
    "## Tabel Kemenangan\n",
    "\n",
    "## Player 1                                    Player 2                                            Pemenang\n",
    "\n",
    "## batu                                          gunting                                                 player1 \n"
   ]
  },
  {
   "cell_type": "code",
   "execution_count": 20,
   "id": "0389614a",
   "metadata": {},
   "outputs": [
    {
     "name": "stdout",
     "output_type": "stream",
     "text": [
      "1. Gunting\n",
      "2. Batu\n",
      "3. Kertas\n",
      "Player 1 Memiih ? = gunting batu atau kertass : 2\n",
      "Player 2 Memiih ? = gunting batu atau kertass : 1\n",
      "=======================================\n",
      "pemain1 win\n"
     ]
    }
   ],
   "source": [
    "print(\"1. Gunting\")\n",
    "print(\"2. Batu\")\n",
    "print(\"3. Kertas\")\n",
    "\n",
    "#masukan pilihan users\n",
    "player1 = int(input(\"Player 1 Memiih ? = gunting batu atau kertass : \"))\n",
    "player2 = int(input(\"Player 2 Memiih ? = gunting batu atau kertass : \"))\n",
    "\n",
    "gunting = 1\n",
    "kertas = 3\n",
    "batu = 2\n",
    "\n",
    "print(\"=======================================\")\n",
    "\n",
    "if player1 == gunting or player1 == kertas or player1 == batu and player2 == gunting or player2 == kertas or player2 == batu:\n",
    "    if player1 == gunting and player2 == kertas or player2 == kertas and player1 == gunting:\n",
    "        print(\"Player 1 Win\")\n",
    "    elif player1 == kertas and player2 == gunting or player2 == gunting and player1 == kertas:\n",
    "        print(\"Pemain 2 Win\")\n",
    "    elif player1 == batu and player2 == kertas or player2 == kertas and player1 == batu:\n",
    "        print(\"Pemain 1 win\")\n",
    "    elif player1 == batu and player2 == gunting or player2 == gunting and player1 == batu:\n",
    "        print(\"pemain1 win\")\n",
    "    elif player1 == gunting and player2 == batu or player2 == batu and player1 == gunting:\n",
    "        print(\"pemain2 win\")\n",
    "    elif player1 == kertas and player2 == batu or player2 == batu and player1 == kertas:\n",
    "        print(\"pemain1 win\")\n",
    "    elif player1 == batu and player2 == kertas or player2 == kertas and player1 == batu:\n",
    "        print(\"pemain2 win\")\n",
    "    elif player1 == kertas and player2 == batu or player2 == batu and player1 == kertas:\n",
    "        print(\"Pemain 2 win\")\n",
    "    else:\n",
    "        print(\"Seri\") \n",
    "else:\n",
    "    print(\"Masukan Plihan yang benar Tidak boleh dengan keyword lain\")"
   ]
  },
  {
   "cell_type": "markdown",
   "id": "d67bae0d",
   "metadata": {},
   "source": [
    "## Soal no 6\n",
    "\n",
    "## Buatlah program sederhana yang menerima input secara terus menerus, akan tetapi ketika input berupa string “berhenti”, maka program tersebut akan berhenti berjalan!"
   ]
  },
  {
   "cell_type": "code",
   "execution_count": 4,
   "id": "51a2fbb3",
   "metadata": {},
   "outputs": [
    {
     "name": "stdout",
     "output_type": "stream",
     "text": [
      "Masukan Input? :3\n",
      "Masukan Input? :3\n",
      "Masukan Input? :3\n",
      "Masukan Input? :mulai\n",
      "Masukan Input? :gg\n",
      "Masukan Input? :berhenti\n"
     ]
    }
   ],
   "source": [
    "#definisikan variabel dengan value Starting\n",
    "mulai = \"Starting\"\n",
    "\n",
    "#looping variable mulai dengan kondisi apabila mulai itu sama dengan starting\n",
    "while mulai == \"Starting\":\n",
    "    #ambil inputan user\n",
    "    nilai = input(\"Masukan Input? :\")\n",
    "    #cek jika nilai sama dengan berhenti maka\n",
    "    if nilai == \"berhenti\":\n",
    "        #looping di hentikan\n",
    "        break;\n",
    "        \n",
    "        #jika tidak ada inputan bernilai berhenti maka lanjutkan perulangan mulai dari awal\n",
    "    \n",
    "    \n",
    "\n"
   ]
  },
  {
   "cell_type": "markdown",
   "id": "304a0ebf",
   "metadata": {},
   "source": [
    "## Soal 7\n",
    "\n",
    "## . Dengan menggunakan konsep yang sama pada soal nomor 6, buatlah program yang dapat menampilkan menu makanan atau tertentu (minimal 3 menu). Pengguna dapat memilih salah satu dari menu yang disediakan dan menampilkan kembali menu yang dipesan beserta harganya. Program akan berhenti berjalan apabila input dari pengguna berupa string “cukup”."
   ]
  },
  {
   "cell_type": "code",
   "execution_count": 5,
   "id": "16c6a64b",
   "metadata": {},
   "outputs": [
    {
     "name": "stdout",
     "output_type": "stream",
     "text": [
      "1.Donat - Rp 1250\n",
      "2. Bakwan Rp 1000\n",
      "3. Onde-Onde Rp 800\n",
      "4. Lemper Rp 1250 \n",
      "5. Risol Rp 1500 \n",
      "Masukan Pilihan Anda ?: 1\n",
      "Kamu Memesan Donat dengan harga   Rp 1250 Terimakasih sudah bebelanja\n",
      "1.Donat - Rp 1250\n",
      "2. Bakwan Rp 1000\n",
      "3. Onde-Onde Rp 800\n",
      "4. Lemper Rp 1250 \n",
      "5. Risol Rp 1500 \n",
      "Masukan Pilihan Anda ?: cukup\n",
      "Kamu Memesan Risol dengan harga Rp  1500  Terimakasih sudah bebelanja\n",
      "Terima kasih sudah berbelanja jajanan pasar kami!\n"
     ]
    }
   ],
   "source": [
    "mulai = \"mulai\"\n",
    "donat = 1250\n",
    "bakwan = 1000\n",
    "onde_onde = 800\n",
    "lemper = 1250\n",
    "risol = 1500\n",
    "\n",
    "while mulai == \"mulai\":\n",
    "    print(\"1.Donat - Rp 1250\")\n",
    "    print(\"2. Bakwan Rp 1000\" )\n",
    "    print(\"3. Onde-Onde Rp 800\")\n",
    "    print(\"4. Lemper Rp 1250 \")\n",
    "    print(\"5. Risol Rp 1500 \")\n",
    "    input_pilihan = input(\"Masukan Pilihan Anda ?: \")\n",
    "    if input_pilihan == '1':\n",
    "        print(\"Kamu Memesan Donat dengan harga \", \"Rp\", donat, \"Terimakasih sudah bebelanja\")\n",
    "      \n",
    "    elif input_pilihan == '2':\n",
    "        print(\"Kamu Memesan Bakwan dengan harga Rp \", bakwan, \" Terimakasih sudah bebelanja\")\n",
    "        \n",
    "    elif input_pilihan == '3':\n",
    "        print(\"Kamu Memesan onde onde dengan harga Rp \", onde_onde, \" Terimakasih sudah bebelanja\")\n",
    "       \n",
    "    elif input_pilihan == '4':\n",
    "        print(\"Kamu Memesan lemper dengan harga Rp \", lemper, \" Terimakasih sudah bebelanja\")\n",
    "   \n",
    "    else:\n",
    "        print(\"Kamu Memesan Risol dengan harga Rp \", risol, \" Terimakasih sudah bebelanja\")\n",
    "     \n",
    "        \n",
    "    if input_pilihan == \"cukup\":\n",
    "        print(\"Terima kasih sudah berbelanja jajanan pasar kami!\")\n",
    "        break;\n",
    "    \n",
    "    "
   ]
  },
  {
   "cell_type": "markdown",
   "id": "302fb942",
   "metadata": {},
   "source": [
    "## Soal No 8\n",
    "\n",
    "## Buat program pada nomor 8 menjadi sedikit lebih kompleks dengan study kasus tambahan apabila pengguna ingin membeli 10 bakwan"
   ]
  },
  {
   "cell_type": "code",
   "execution_count": 1,
   "id": "7f50d715",
   "metadata": {},
   "outputs": [
    {
     "name": "stdout",
     "output_type": "stream",
     "text": [
      "1.Donat - Rp 1250\n",
      "2. Bakwan Rp 1000\n",
      "3. Onde-Onde Rp 800\n",
      "4. Lemper Rp 1250 \n",
      "5. Risol Rp 1500 \n",
      "Masukan Pilihan Anda ?: 3\n",
      "Masukan jumlah yang kamu inginkan ?: 10\n",
      "Kamu Memesan Onde onde dengan jumlah Rp 10, dengan harga Rp 8000.0, Terimakasih sudah bebelanja \n",
      "1.Donat - Rp 1250\n",
      "2. Bakwan Rp 1000\n",
      "3. Onde-Onde Rp 800\n",
      "4. Lemper Rp 1250 \n",
      "5. Risol Rp 1500 \n",
      "Masukan Pilihan Anda ?: cukup\n",
      "Terima kasih sudah berbelanja jajanan pasar kami!\n"
     ]
    }
   ],
   "source": [
    "#definisikan varibel untuk menampung semua value yang di butuhkan dalam progam\n",
    "mulai = \"mulai\"\n",
    "donat = 1250\n",
    "bakwan = 1000\n",
    "onde_onde = 800\n",
    "lemper = 1250\n",
    "risol = 1500\n",
    "\n",
    "#jalankan looping ketika kondisi terpenuhi di mana varibale mulai sama dengan string mulai\n",
    "\n",
    "while mulai == \"mulai\":\n",
    "    #print makanan\n",
    "    print(\"1.Donat - Rp 1250\")\n",
    "    print(\"2. Bakwan Rp 1000\" )\n",
    "    print(\"3. Onde-Onde Rp 800\")\n",
    "    print(\"4. Lemper Rp 1250 \")\n",
    "    print(\"5. Risol Rp 1500 \")\n",
    "    input_pilihan = input(\"Masukan Pilihan Anda ?: \")\n",
    "\n",
    "    if input_pilihan == '1':\n",
    "        jumlah = input(\"Masukan Jumlah yang ingin kamu beli ? \")\n",
    "        if jumlah == \"0\":\n",
    "             print(\"Kamu Memesan Donat dengan harga \", \"Rp\", donat, \"Terimakasih sudah bebelanja\")\n",
    "        else:\n",
    "            hasil =float( donat) *float( jumlah)\n",
    "            print(f\"Kamu memesan donat dengan jumlah , {jumlah}, dengan harga Rp, {hasil},  Terimakasih sudah bebelanja\")\n",
    "        continue\n",
    "    elif input_pilihan == '2':\n",
    "        jumlah = input(\"Masukan Jumlah yang ingin kamu beli ? \")\n",
    "        if jumlah == \"0\":\n",
    "            print(f\"Kamu memesan Bakwan dengan harga {bakwan}, Terimakasih sudah bebelanja\")\n",
    "        else:\n",
    "            hasil = float(bakwan) * float(jumlah)\n",
    "            print(f\"Kamu memesan Bakwan dengan jumlah , {jumlah}, dengan harga Rp, {hasil},  Terimakasih sudah bebelanja\")\n",
    "        continue\n",
    "    elif input_pilihan == '3':\n",
    "        jumlah = input(\"Masukan jumlah yang kamu inginkan ?: \")\n",
    "        if jumlah == \"0\":\n",
    "            print(f\"Kamu memesan onde onde dengan harga Rp {onde_onde} Terimakasih sudah bebelanja\")\n",
    "        else:\n",
    "            hasil = float(onde_onde) * float(jumlah)\n",
    "            print(f\"Kamu Memesan Onde onde dengan jumlah Rp {jumlah}, dengan harga Rp {hasil}, Terimakasih sudah bebelanja \")\n",
    "    elif input_pilihan == '4':\n",
    "        jumlah = input(\"Masukan jumlah Yang kamu inginkan ?: \")\n",
    "        if (jumlah == \"0\"):\n",
    "            print(f\"Kamu memsan Lemper dengan harga Rp {lemper}, Terimakasih sudah bebelanja!\")\n",
    "        else:\n",
    "            hasil = float(lemper) * float(jumlah)\n",
    "            print(f\"Kamu Memesan Lemper dengan jumlah Rp {jumlah}, dengan total harga = {hasil}, Terimakasih sudah bebelanja\")\n",
    "        continue\n",
    "    elif input_pilihan == \"cukup\":\n",
    "        print(\"Terima kasih sudah berbelanja jajanan pasar kami!\")\n",
    "        break;\n",
    "    else:\n",
    "        jumlah = input(\"masukan jumlah yang anda inginkan ? :\")\n",
    "        if jumlah == \"0\":\n",
    "            print(f\"Kamu Memesan Risol dengan harga Rp {risol}, Terimakasih Sudah bebelanja!\")\n",
    "        else:\n",
    "            hasil = float(risol) * float(jumlah)\n",
    "            print(f\"Kamu memesan risol dengan jumlah {jumlah} dengan total harga Rp {hasil}, Terimalkasih sudah Bebelanja\")\n",
    "        \n",
    "        "
   ]
  },
  {
   "cell_type": "markdown",
   "id": "2d23cf50",
   "metadata": {},
   "source": [
    "## Soal Kelas Siang\n",
    "\n",
    "\n",
    "## Soal no 1\n",
    "\n",
    "## Write a method is divisible that takes two integers, m and n. The method returns True if m is divisible by n, and returns False otherwise.\n",
    "\n"
   ]
  },
  {
   "cell_type": "code",
   "execution_count": 6,
   "id": "27ec6461",
   "metadata": {},
   "outputs": [
    {
     "name": "stdout",
     "output_type": "stream",
     "text": [
      "True\n",
      "False\n",
      "True\n",
      "False\n",
      "True\n"
     ]
    }
   ],
   "source": [
    "def habis_dibagi(m, n):\n",
    "    if m % n == 0:\n",
    "        return True\n",
    "    else:\n",
    "        return False\n",
    "\n",
    "print(habis_dibagi(12,2)) #TRUE\n",
    "print(habis_dibagi(13,2)) #FALSE\n",
    "print(habis_dibagi(14,2)) # TRUE\n",
    "print(habis_dibagi(15,4)) #FALSE\n",
    "print(habis_dibagi(16,4)) #TRUE\n",
    "\n",
    "    "
   ]
  },
  {
   "cell_type": "markdown",
   "id": "adaf77d7",
   "metadata": {},
   "source": [
    "## Soal no 2\n",
    "\n",
    "## Write a function that first displays a simple caf´e menu (see example below), asks the user to enter the number of a choice, and either prints the appropriate action OR prints an error message that their choice was not valid.\n",
    "\n",
    "\n",
    "## Example output:\n",
    "\n",
    "## 1. Soup and salad\n",
    "## 2. Pasta with meat sauce\n",
    "## 3. chef special\n",
    "\n",
    "## which number world you like to oder ? 2\n",
    "## one pasta with meat sauce comming right up\n",
    "\n",
    "\n",
    "## Anothere example output\n",
    "## >>>menu()\n",
    "## 1. Soup and salad\n",
    "## 2. Pasta with meat sauce\n",
    "## 3. chef special\n",
    "\n",
    "## Which number would you like to order? 5\n",
    "## Sorry, that is not a valid choice.\n"
   ]
  },
  {
   "cell_type": "code",
   "execution_count": 5,
   "id": "e3ccbbd3",
   "metadata": {},
   "outputs": [
    {
     "name": "stdout",
     "output_type": "stream",
     "text": [
      "1 Soup and salad\n",
      "2 Pasta with meat sauce\n",
      "3 Chefs special\n",
      "Silakan masukan pilihan Anda ? : 2\n",
      "one  Pasta with meat sauce  Coming right up\n"
     ]
    }
   ],
   "source": [
    "def cafe(soup, pasta, cef):\n",
    "    soup    = soup\n",
    "    pasta   = pasta\n",
    "    cef     = cef\n",
    "    print(\"1\", soup)\n",
    "    print(\"2\", pasta)\n",
    "    print(\"3\", cef)  \n",
    "    something = int(input(\"Silakan masukan pilihan Anda ? : \"))\n",
    "\n",
    "    if something == 1:\n",
    "        print(\"one \", soup, \" Coming right up \")\n",
    "    elif something == 2:\n",
    "        print(\"one \", pasta, \" Coming right up\")\n",
    "    elif something == 3:\n",
    "        print(\"one \", cef, \" Coming right up\")\n",
    "    else:\n",
    "        print(\"Sorry, that is not a valid choice.\")\n",
    "cafe(\"Soup and salad\", \"Pasta with meat sauce\" , \"Chefs special\")\n",
    "\n"
   ]
  },
  {
   "cell_type": "markdown",
   "id": "25624f21",
   "metadata": {},
   "source": [
    "## Soal no 3\n",
    "\n",
    "## Write a method rand_divis_3 that takes no parameters and returns True if a number is divisible by 3, and False otherwise."
   ]
  },
  {
   "cell_type": "code",
   "execution_count": 5,
   "id": "13124eca",
   "metadata": {},
   "outputs": [
    {
     "data": {
      "text/plain": [
       "True"
      ]
     },
     "execution_count": 5,
     "metadata": {},
     "output_type": "execute_result"
    }
   ],
   "source": [
    "def Rand_divis_3():\n",
    "    numbers = 9\n",
    "    if numbers % 3 ==0:\n",
    "        return True\n",
    "    else:\n",
    "        return False\n",
    "    \n",
    "    \n",
    "Rand_divis_3()"
   ]
  },
  {
   "cell_type": "markdown",
   "id": "3b035d45",
   "metadata": {},
   "source": [
    "## Soal no 4\n",
    "\n",
    "## Imagine that Python doesn’t have the != operator built in. Write a method not equal that takes two parameters and gives the same result as the != operator. Obviously, you cannot use != within your function! Test if your code works by thinking of examples and making sure the output is the same for your new method as != gives you."
   ]
  },
  {
   "cell_type": "code",
   "execution_count": 7,
   "id": "9fa39457",
   "metadata": {},
   "outputs": [
    {
     "data": {
      "text/plain": [
       "False"
      ]
     },
     "execution_count": 7,
     "metadata": {},
     "output_type": "execute_result"
    }
   ],
   "source": [
    "def metode_tidak_sama_dengan(x, y):\n",
    "    if x is not y:\n",
    "        return True\n",
    "    else:\n",
    "        return False\n",
    "    \n",
    "metode_tidak_sama_dengan(4,4)"
   ]
  },
  {
   "cell_type": "markdown",
   "id": "f42fde86",
   "metadata": {},
   "source": [
    "## Soal no 5\n",
    "\n",
    "## What's wrong with this code?\n",
    "\n",
    "## def ask_name():\n",
    "##  name = input(\"Enter Your name\")\n",
    "\n",
    "\n",
    "## ask_name()\n",
    "## print(\"Your name is : \", name)"
   ]
  },
  {
   "cell_type": "code",
   "execution_count": 13,
   "id": "0a541356",
   "metadata": {},
   "outputs": [
    {
     "name": "stdout",
     "output_type": "stream",
     "text": [
      "Enter Your name : ?hidayat\n",
      "Enter Your name is  hidayat\n"
     ]
    }
   ],
   "source": [
    "def ask_name():\n",
    "    name = input(\"Enter Your name : ?\")\n",
    "    print(\"Enter Your name is \", name)\n",
    "ask_name()\n"
   ]
  }
 ],
 "metadata": {
  "kernelspec": {
   "display_name": "Python 3 (ipykernel)",
   "language": "python",
   "name": "python3"
  },
  "language_info": {
   "codemirror_mode": {
    "name": "ipython",
    "version": 3
   },
   "file_extension": ".py",
   "mimetype": "text/x-python",
   "name": "python",
   "nbconvert_exporter": "python",
   "pygments_lexer": "ipython3",
   "version": "3.9.7"
  }
 },
 "nbformat": 4,
 "nbformat_minor": 5
}
