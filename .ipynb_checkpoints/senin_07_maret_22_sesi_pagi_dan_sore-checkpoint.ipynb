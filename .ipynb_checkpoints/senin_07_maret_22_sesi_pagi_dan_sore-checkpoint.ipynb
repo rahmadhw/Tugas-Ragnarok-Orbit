{
 "cells": [
  {
   "cell_type": "markdown",
   "id": "cdea0d1a",
   "metadata": {},
   "source": [
    "## Tugas Hari Senin Tanggal 07 Maret 2022 Sesi Pagi Dan Sesi Sore\n",
    "\n",
    "## class dan method"
   ]
  },
  {
   "cell_type": "code",
   "execution_count": 17,
   "id": "9d60d0f3",
   "metadata": {},
   "outputs": [
    {
     "name": "stdout",
     "output_type": "stream",
     "text": [
      "hasil Pertambahan Dari 10 + 5 adalah :  15\n",
      "hasil Perkalian Dari 5 * 5 adalah  : 25\n",
      "hasil Pembagian dari 5 / 2 adalah  : 2.5\n",
      "hasil pengurangan dari 3 - 2 adalah : 1\n"
     ]
    }
   ],
   "source": [
    "class Kalkulasi:\n",
    "    def __init__(self, angka1, angka2):\n",
    "        self.angka1 = angka1\n",
    "        self.angka2 = angka2\n",
    "        \n",
    "    def pertambahan(self):\n",
    "        return self.angka1 + self.angka2\n",
    "    \n",
    "    def perkalian(self):\n",
    "        return self.angka1 * self.angka2\n",
    "    def pembagian(self):\n",
    "        return self.angka1 / self.angka2\n",
    "    def pengurangan(self):\n",
    "        return self.angka1 - self.angka2\n",
    "    \n",
    "pertambahan1 = Kalkulasi(10, 5)\n",
    "print(f\"hasil Pertambahan Dari 10 + 5 adalah :  {pertambahan1.pertambahan()}\")\n",
    "perkalian1 = Kalkulasi(5,5)\n",
    "print(f\"hasil Perkalian Dari 5 * 5 adalah  : {perkalian1.perkalian()}\")\n",
    "pembagian = Kalkulasi(5,2)\n",
    "print(f\"hasil Pembagian dari 5 / 2 adalah  : {pembagian.pembagian()}\")\n",
    "pengurangan = Kalkulasi(3,2)\n",
    "print(f\"hasil pengurangan dari 3 - 2 adalah : {pengurangan.pengurangan()}\")"
   ]
  },
  {
   "cell_type": "markdown",
   "id": "a5fbba36",
   "metadata": {},
   "source": [
    "## inherintences"
   ]
  },
  {
   "cell_type": "code",
   "execution_count": 7,
   "id": "281d1dc8",
   "metadata": {},
   "outputs": [
    {
     "name": "stdout",
     "output_type": "stream",
     "text": [
      "hasil dari pertambahan dari 2 di tambah 2 = : 4 \n",
      "\n",
      "hasil dari perkalian dari 2 di kali 2     = : 4 \n",
      "\n",
      "hasil dari Pembagian dari 2 di bagi 2     = : 1.0 \n",
      "\n",
      "hasil dari penguran dari 2 di kuranig 2   = : 0 \n",
      "\n",
      "hasil dari pertambahan dari 10 di tambah 2 = : 12 \n",
      "\n",
      "hasil dari perkalian dari 10 di kali 2     = : 20 \n",
      "\n",
      "hasil dari Pembagian dari 10 di bagi 2     = : 5.0 \n",
      "\n",
      "hasil dari penguran dari 10 di kurangi 2   = : 8 \n",
      "\n",
      "Akar dari 2 pangkat 2 adalah : 4 \n",
      "\n",
      "Akar dari 3 pangkat 2 adalah : 27 \n",
      "\n",
      "Akar dari 4 pangkat 4 adalah : 256 \n",
      "\n"
     ]
    }
   ],
   "source": [
    "class Kalkulasi(object):\n",
    "    def __init__(self, angka1, angka2):\n",
    "        self.angka1 = angka1\n",
    "        self.angka2 = angka2\n",
    "        \n",
    "    def pertambahan(self):\n",
    "        return self.angka1 + self.angka2\n",
    "    \n",
    "    def perkalian(self):\n",
    "        return self.angka1 * self.angka2\n",
    "    def pembagian(self):\n",
    "        return self.angka1 / self.angka2\n",
    "    def pengurangan(self):\n",
    "        return self.angka1 - self.angka2\n",
    "\n",
    "\n",
    "class Akar(Kalkulasi):\n",
    "    def __init__(self, angka1, angka2):\n",
    "        self.angka1 = angka1\n",
    "        self.angka2 = angka2\n",
    "    def akar2(self):\n",
    "        result = self.angka1 ** self.angka2\n",
    "        hasil = result\n",
    "        return hasil\n",
    "\n",
    "kalkulasi1 = Kalkulasi(2,2)\n",
    "print(f\"hasil dari pertambahan dari 2 di tambah 2 = : {kalkulasi1.pertambahan()} \\n\")\n",
    "print(f\"hasil dari perkalian dari 2 di kali 2     = : {kalkulasi1.perkalian()} \\n\")\n",
    "print(f\"hasil dari Pembagian dari 2 di bagi 2     = : {kalkulasi1.pembagian()} \\n\")\n",
    "print(f\"hasil dari penguran dari 2 di kuranig 2   = : {kalkulasi1.pengurangan()} \\n\")\n",
    "\n",
    "kalkulasi2 = Kalkulasi(10,2)\n",
    "print(f\"hasil dari pertambahan dari 10 di tambah 2 = : {kalkulasi2.pertambahan()} \\n\")\n",
    "print(f\"hasil dari perkalian dari 10 di kali 2     = : {kalkulasi2.perkalian()} \\n\")\n",
    "print(f\"hasil dari Pembagian dari 10 di bagi 2     = : {kalkulasi2.pembagian()} \\n\")\n",
    "print(f\"hasil dari penguran dari 10 di kurangi 2   = : {kalkulasi2.pengurangan()} \\n\")\n",
    "\n",
    "akar = Akar(2,2)\n",
    "print(f\"Akar dari 2 pangkat 2 adalah : {akar.akar2()} \\n\")\n",
    "Akar3 = Akar(3,3)\n",
    "print(f\"Akar dari 3 pangkat 2 adalah : {Akar3.akar2()} \\n\")\n",
    "akar4 = Akar(4,4)\n",
    "print(f\"Akar dari 4 pangkat 4 adalah : {akar4.akar2()} \\n\")"
   ]
  },
  {
   "cell_type": "markdown",
   "id": "4fccee1e",
   "metadata": {},
   "source": [
    "## Pholimopishm"
   ]
  },
  {
   "cell_type": "code",
   "execution_count": 15,
   "id": "c9a2d7b7",
   "metadata": {},
   "outputs": [
    {
     "name": "stdout",
     "output_type": "stream",
     "text": [
      "nama saya Kamen Rider Zero one, era saya adalah era : heisei, rating saya adalah : 29\n",
      "nama saya Kamen Rider Saber, era saya adalah era : heisi, rating saya adalah : 28\n",
      "nama saya Kamen Rider Den-o, era saya adalah era : heisi, rating saya adalah : 28\n",
      "nama saya Kamen Rider Kuuga, era saya adalah era : heisei, rating saya adalah : 29\n",
      "nama saya Kamen Rider ichigo, era saya adalah era : heisei, rating saya adalah : 29\n",
      "saya akan menyerang kamen rider : Kamu Rider Saber\n",
      "saya akan menyerang kamen rider : Kamu Rider Zero one\n",
      "saya akan menyerang kamen rider : Kamu Rider Kuuga\n",
      "saya akan menyerang kamen rider : Kamu Rider Agito\n",
      "saya akan menyerang kamen rider : Kamu Rider Black RX\n"
     ]
    }
   ],
   "source": [
    "\n",
    "\n",
    "class Kamen_rider(object):\n",
    "    def __init__(self, name, era, rating):\n",
    "        self.name = name\n",
    "        self.era = era\n",
    "        self.rating = rating\n",
    "    \n",
    "    def name_kamen(self):\n",
    "        return f\"nama saya {self.name}, era saya adalah era : {self.era}, rating saya adalah : {self.rating}\"\n",
    "    def Serang(self,name):\n",
    "        self.name = name\n",
    "        return f\"saya akan menyerang kamen rider : {self.name}\"\n",
    "    \n",
    "class Kamen_rider_saber(Kamen_rider):\n",
    "    def __init__(self):\n",
    "        super().__init__(name, era, rating)\n",
    "    def name_kamen(self):\n",
    "        return f\"nama saya {self.name}, era saya adalah era : {self.era}, rating saya adalah : {self.rating}\"\n",
    "    def Serang(self,name):\n",
    "        self.name = name\n",
    "        return f\"saya akan menyerang {self.name} \"\n",
    "        \n",
    "class Kamen_rider_ichigo(Kamen_rider):\n",
    "    def __init__(self):\n",
    "        super().__init__(name, era, rating)  \n",
    "    def name_kamen(self):\n",
    "        return f\"nama Saya {self.name} era saya adalaj era : {self.era} rating saya adalah : {self.rating}\"\n",
    "    def Serang(self, name):\n",
    "        self.name = name\n",
    "        return f\"saya akan menyerang {self.name} \"\n",
    "kamen_rider_zero_one = Kamen_rider(\"Kamen Rider Zero one\", \"heisei\", 29)\n",
    "kamen_rider_saber = Kamen_rider(\"Kamen Rider Saber\", \"heisi\", 28)\n",
    "kamen_rider_deno = Kamen_rider(\"Kamen Rider Den-o\", \"heisi\", 28)\n",
    "kamen_rider_Kuuga = Kamen_rider(\"Kamen Rider Kuuga\", \"heisei\", 29)\n",
    "kamen_rider_ichigo = Kamen_rider(\"Kamen Rider ichigo\", \"heisei\", 29)\n",
    "\n",
    "for rider in (kamen_rider_zero_one, kamen_rider_saber, kamen_rider_deno, kamen_rider_Kuuga, kamen_rider_ichigo):\n",
    "    print(rider.name_kamen())\n",
    "   \n",
    "\n",
    "    \n",
    "print(kamen_rider_zero_one.Serang(\"Kamu Rider Saber\"))\n",
    "print(kamen_rider_saber.Serang(\"Kamu Rider Zero one\"))\n",
    "print(kamen_rider_deno.Serang(\"Kamu Rider Kuuga\"))\n",
    "print(kamen_rider_Kuuga.Serang(\"Kamu Rider Agito\"))\n",
    "print(kamen_rider_ichigo.Serang(\"Kamu Rider Black RX\"))\n",
    "\n",
    "\n"
   ]
  },
  {
   "cell_type": "markdown",
   "id": "218f9699",
   "metadata": {},
   "source": [
    "## Abstraction"
   ]
  },
  {
   "cell_type": "code",
   "execution_count": 24,
   "id": "798b6d0c",
   "metadata": {},
   "outputs": [],
   "source": [
    "from abc import ABC, abstractmethod   "
   ]
  },
  {
   "cell_type": "code",
   "execution_count": 32,
   "id": "e52bd1d5",
   "metadata": {},
   "outputs": [
    {
     "name": "stdout",
     "output_type": "stream",
     "text": [
      "Im Kamen Rider Zero one\n",
      "Im Kaito Sentai Lupin Ranger\n"
     ]
    }
   ],
   "source": [
    "class Tokusatsu(ABC):\n",
    "    def Kamen_Rider(self):\n",
    "        pass\n",
    "    \n",
    "class Kamen_rider(Tokusatsu):\n",
    "    def kamen_rider_zero_one(self):\n",
    "        print(\"Im Kamen Rider Zero one\")\n",
    "class Super_Sentai(Tokusatsu):\n",
    "    def lupinranger(self):\n",
    "        print(\"Im Kaito Sentai Lupin Ranger\")\n",
    "\n",
    "\n",
    "\n",
    "\n",
    "\n",
    "unit1 = Kamen_rider()\n",
    "unit1.kamen_rider_zero_one()\n",
    "unit2 = Super_Sentai()\n",
    "unit2.lupinranger()\n",
    "    "
   ]
  },
  {
   "cell_type": "markdown",
   "id": "7b982931",
   "metadata": {},
   "source": [
    "## Encapsulation"
   ]
  },
  {
   "cell_type": "code",
   "execution_count": 37,
   "id": "75cc43a3",
   "metadata": {},
   "outputs": [
    {
     "name": "stdout",
     "output_type": "stream",
     "text": [
      "Harga Mobil Avanza 4000000\n",
      "Harga Mobil Sembrono 5000000\n",
      "Wah Duit Saya Habis:  5000000\n",
      "Wah Duit Saya Habis  4000000\n"
     ]
    }
   ],
   "source": [
    "class Mobil:\n",
    "    def __init__(self):\n",
    "        self.a = 4000000\n",
    "    \n",
    "class Avanza(Mobil):\n",
    "    def __init__(self):\n",
    "        Mobil.__init__(self)\n",
    "        print(f\"Harga Mobil Avanza {self.a}\")\n",
    "        \n",
    "        self.a = 5000000\n",
    "        print(f\"Harga Mobil Sembrono {self.a}\")\n",
    "        \n",
    "object1 = Avanza()\n",
    "object2 = Mobil()\n",
    "\n",
    "print(\"Wah Duit Saya Habis: \", object1.a)\n",
    " \n",
    "# Accessing the protected variable outside\n",
    "print(\"Wah Duit Saya Habis \", object2.a)"
   ]
  }
 ],
 "metadata": {
  "kernelspec": {
   "display_name": "Python 3 (ipykernel)",
   "language": "python",
   "name": "python3"
  },
  "language_info": {
   "codemirror_mode": {
    "name": "ipython",
    "version": 3
   },
   "file_extension": ".py",
   "mimetype": "text/x-python",
   "name": "python",
   "nbconvert_exporter": "python",
   "pygments_lexer": "ipython3",
   "version": "3.9.7"
  }
 },
 "nbformat": 4,
 "nbformat_minor": 5
}
