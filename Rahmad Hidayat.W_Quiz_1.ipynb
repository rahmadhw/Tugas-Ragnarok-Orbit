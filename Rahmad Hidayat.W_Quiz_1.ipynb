{
 "cells": [
  {
   "cell_type": "markdown",
   "id": "88acddf1",
   "metadata": {},
   "source": [
    "## python oop\n",
    "\n",
    "oop adalah Suatu Metode Yang berorientasi Pada Object\n",
    "\n",
    "1. Implementasi OOp\n",
    "\n",
    "inherinten"
   ]
  },
  {
   "cell_type": "code",
   "execution_count": 21,
   "id": "3bd0e305",
   "metadata": {},
   "outputs": [
    {
     "name": "stdout",
     "output_type": "stream",
     "text": [
      "Nama Saya monkey\n",
      "hufft\n",
      "Nama Saya monkey\n",
      "saya Phobia terhadap Monkey\n",
      "hufft\n"
     ]
    }
   ],
   "source": [
    "class Animal:\n",
    "    def __init__(self,name,jenis,usia):\n",
    "        self.name = name\n",
    "        self.jenis = jenis\n",
    "        self.usia = usia\n",
    "    def Hallo_Hewan(self):\n",
    "        return f\"Nama Saya {self.name}\"\n",
    "    def Takut(self):\n",
    "        return \"hufft\"\n",
    "\n",
    "class Jerapah(Animal):\n",
    "    def __init__(self,name,jenis,usia, phobia):\n",
    "        self.phobia = phobia\n",
    "        self.name = name\n",
    "    \n",
    "    def Hallo_jerapah(self):\n",
    "        return f'saya Phobia terhadap {self.phobia}'\n",
    "    \n",
    "    \n",
    "animal1 = Animal(\"monkey\", \"mamalia\", \"17\")\n",
    "animal2 = Jerapah(\"monkey\", \"mamalia\", \"17\",\"Monkey\")\n",
    "print(animal1.Hallo_Hewan())\n",
    "print(animal1.Takut())\n",
    "print(animal2.Hallo_Hewan())\n",
    "print(animal2.Hallo_jerapah())\n",
    "print(animal2.Takut())"
   ]
  },
  {
   "cell_type": "markdown",
   "id": "582b36eb",
   "metadata": {},
   "source": [
    " Pholimopizm Class Method"
   ]
  },
  {
   "cell_type": "code",
   "execution_count": 58,
   "id": "c0bbd87f",
   "metadata": {},
   "outputs": [
    {
     "name": "stdout",
     "output_type": "stream",
     "text": [
      "enak Sekali Marzan\n",
      "mantap sekali\n",
      "sirup enak\n",
      "wenak\n"
     ]
    }
   ],
   "source": [
    "class Sirup():\n",
    "    def info(self):\n",
    "        print(\"enak Sekali Marzan\")\n",
    "    def fanta(self):\n",
    "        print(\"mantap sekali\")\n",
    "\n",
    "class Minum():\n",
    "    def info(self):\n",
    "        print(\"sirup enak\")\n",
    "    def fanta(self):\n",
    "        print(\"wenak\")\n",
    "        \n",
    "obj1 = Sirup()\n",
    "obj2 = Minum()\n",
    "\n",
    "for pr in (obj1, obj2):\n",
    "    pr.info()\n",
    "    pr.fanta()"
   ]
  },
  {
   "cell_type": "markdown",
   "id": "5074e7e5",
   "metadata": {},
   "source": [
    "2. Sebutkan Dan jelaskan 2 jenis modules yang ada di python"
   ]
  },
  {
   "cell_type": "markdown",
   "id": "7a1aac72",
   "metadata": {},
   "source": [
    "-Math\n",
    "\n",
    " Modul math berisi daftar fungsi untuk melakukan perhitungan-perhitungan matematika, seperti pembagian, perpangkatan, pencarian akar kuadrat dari suatu bilangan, trigonometri, dan lain-lain.\n",
    "\n",
    "-Time\n",
    "\n",
    " Modul ini di gunakan untuk mendapatkan waktu lokal dari jumlah detik yang telah di tentukan"
   ]
  },
  {
   "cell_type": "code",
   "execution_count": 23,
   "id": "2c6f89ca",
   "metadata": {},
   "outputs": [],
   "source": [
    "import math"
   ]
  },
  {
   "cell_type": "code",
   "execution_count": 25,
   "id": "f162824e",
   "metadata": {},
   "outputs": [
    {
     "data": {
      "text/plain": [
       "15.438666450354072"
      ]
     },
     "execution_count": 25,
     "metadata": {},
     "output_type": "execute_result"
    }
   ],
   "source": [
    "math.sqrt(175) + 7**(1/4) + (1/3) + math.log(3,81)"
   ]
  },
  {
   "cell_type": "markdown",
   "id": "6d750e52",
   "metadata": {},
   "source": [
    "4. Apa itu Custom Exeption hendling dan berikan 1 contoh iplementasi nya"
   ]
  },
  {
   "cell_type": "markdown",
   "id": "ab290110",
   "metadata": {},
   "source": [
    "Custom exception handling yaitu ada baris code error yang ingin kita tampilkan menggunakan bahasa kita sendiri agar mudah untuk di pahami"
   ]
  },
  {
   "cell_type": "code",
   "execution_count": 48,
   "id": "7f5516b4",
   "metadata": {},
   "outputs": [
    {
     "name": "stdout",
     "output_type": "stream",
     "text": [
      "Inputkan Sesuatu : ?5\n",
      "8\n"
     ]
    }
   ],
   "source": [
    "angka1 = input(\"Inputkan Sesuatu : ?\")\n",
    "try:\n",
    "    hasil = int(angka1) + 3\n",
    "    print(hasil)\n",
    "except:\n",
    "    print(\"Error\")\n",
    "  \n",
    "   "
   ]
  },
  {
   "cell_type": "markdown",
   "id": "6602e9bd",
   "metadata": {},
   "source": [
    "## Artificial intelengent"
   ]
  },
  {
   "cell_type": "markdown",
   "id": "d583ba15",
   "metadata": {},
   "source": [
    "1. Apa perbedaan dari struktured dan unstruktured data dan sebutkan 3 sumber data"
   ]
  },
  {
   "cell_type": "markdown",
   "id": "de7a9d3e",
   "metadata": {},
   "source": [
    "Jawaban :\n",
    "\n",
    "data Struktured adalah yang memiliki struktur data yang jelas berbentuk sebuha file,contohnya,data CRM,data Pegawai,Data Dosen\n",
    "\n",
    "\n",
    "data Unstruktured adalah data yang tidak mudah di klasifikasi dan di buata rapii,,contoh nya adalah,,data gambar,,video,,streaming instrument data,power Point Presentation"
   ]
  },
  {
   "cell_type": "markdown",
   "id": "1ba6f226",
   "metadata": {},
   "source": [
    "2. Jelaskan perbedaan AI,mashine learning dan deep learning"
   ]
  },
  {
   "cell_type": "markdown",
   "id": "95781ab8",
   "metadata": {},
   "source": [
    "Jawaban\n",
    "\n",
    "Artifical intelgent adalah membuat komputer meniru perilaku manusia,Mashine learning adalah bagian dari Artificial\n",
    "Intelligence dan terdiri dari teknik yang memungkinkan komputer untuk mengetahui berbagai hal dari data dan \n",
    "mengirimkan aplikasi Artificial Intelligence, Deep Learning adalah bagian dari mashine learning yang memungkinkan komputer untuk memecahkan masalah yang lebih kompleks,\n",
    "\n",
    "\n",
    "menurut data di atas perbedaan dari AI,ML,DAN DL,adalah AI untuk membuat prilaku komputer sama seperti manusia,ML untuk membuat AI Itu dapat belajar dari data yang di punya,,sedangkan DL untuk memecahkan masalah yang kompleks yang terdapat di Mashine learning tersebut"
   ]
  },
  {
   "cell_type": "markdown",
   "id": "4d0e893e",
   "metadata": {},
   "source": [
    "3. Apa perbedaan mashine learning dengan tradisional software"
   ]
  },
  {
   "cell_type": "markdown",
   "id": "bdccc089",
   "metadata": {},
   "source": [
    "Jawaban\n",
    "\n",
    "Perbedaan Mashine Learning dan Tradisional Softaware/Software engginer adalah proses pembangunan software dengan mengetahui dahulu background knowledge kemudian melakukan pemrograman software berdasarkan fungsional dari yang diketahui,,software development biasa tidak melakukan predikis\n",
    "Sedangkan Mashine learning adalah  pendekatan development software yang menggunakan data dari masa lalu untuk memprediksi pola kemudian dari pola tersebut dapat kita tafsirkan kecenderungan hasil / kesimpulan / data yang akan diinput oleh user data seperti apa"
   ]
  },
  {
   "cell_type": "markdown",
   "id": "2b43b8b8",
   "metadata": {},
   "source": [
    "4. Sebutkan 3 contoh aplikasi mashine learning di sektopr smart city dan agriculture"
   ]
  },
  {
   "cell_type": "markdown",
   "id": "30df10d5",
   "metadata": {},
   "source": [
    "-Smart City\n",
    "\n",
    "smart governance berupa sistem e-gov, smart branding untuk sistem informasi marketing, smart economy untuk sistem e-commerce,\n",
    "\n",
    "-Agriculture\n",
    "\n",
    "deteksi hama,,deteksi panen,,deteksi suhu tanah\n"
   ]
  },
  {
   "cell_type": "markdown",
   "id": "020d2f1c",
   "metadata": {},
   "source": [
    "## Maths for Ai"
   ]
  },
  {
   "cell_type": "markdown",
   "id": "c1443392",
   "metadata": {},
   "source": [
    "1. Mengapa ilmu matematika penting ketika mempelajari AI"
   ]
  },
  {
   "cell_type": "code",
   "execution_count": null,
   "id": "caadb73e",
   "metadata": {},
   "outputs": [],
   "source": [
    "Jawaban\n",
    "\n",
    "Karena Semua Yang ada Artificial intelegent banyak menggunakan teknik matematika"
   ]
  },
  {
   "cell_type": "markdown",
   "id": "6db74210",
   "metadata": {},
   "source": [
    "2. Jelaskan perbedaan vektor dan skalar"
   ]
  },
  {
   "cell_type": "markdown",
   "id": "f0995403",
   "metadata": {},
   "source": [
    "Jawaban:\n",
    "\n",
    "Perbeddan Vektor Dan skalar,,,Vektor merupakan besaran yang merepresentasikan dengan nilai dan arah\n",
    "sedangkan Skalar merupakan besaran yang merepresentasikan nilai saja"
   ]
  },
  {
   "cell_type": "markdown",
   "id": "357ff195",
   "metadata": {},
   "source": [
    "3. apa perbedaan jarak Enclidean dan Manhattan?"
   ]
  },
  {
   "cell_type": "markdown",
   "id": "8d349d77",
   "metadata": {},
   "source": [
    "jarak Enclidean merupakan perhitungan untuk mengukur jarak dua titik dalam euclidean space yang mempelajari hubungan antara sudut dan jarak\n",
    "\n",
    "sedangkan Manhattan antara dua titik adalah jumlah dari panjang ruas garis kedua titik tersebut terhadap tiap sumbu dalam koordinat Kartesius. Jarak ini disebut juga dengan panjang\n",
    "\n",
    "perbedaan nya adalah jarak Enclidean melakukan perhitungan untuk jarak,sedangkan Manhattan menghitung antara 2 titik dari panjang ruas garis kedua titik tersebut"
   ]
  },
  {
   "cell_type": "markdown",
   "id": "acd4e42f",
   "metadata": {},
   "source": [
    "4. Apa Kegunaan matrix dalam ilmu matematika ketika menerapkan AI"
   ]
  },
  {
   "cell_type": "markdown",
   "id": "608c34f3",
   "metadata": {},
   "source": [
    "Jawaban:\n",
    "\n",
    "matrix di gunakan untuk merepresentasikan sejumlah data berupa gambar gambar,text dan lain lain"
   ]
  },
  {
   "cell_type": "markdown",
   "id": "269e2a84",
   "metadata": {},
   "source": [
    "## Mashine Learning"
   ]
  },
  {
   "cell_type": "markdown",
   "id": "7b6a2df1",
   "metadata": {},
   "source": [
    "1. Jelaskan perbedaan supervised dan unsupervised learning dan sebutkan 2 contohnya!"
   ]
  },
  {
   "cell_type": "markdown",
   "id": "e859435a",
   "metadata": {},
   "source": [
    "Perbedaan antara supervised Learning dan Unsupervised Learning adalah Supervised learning umumnya di gunakan untuk menemukan pola dalam data masukan yang di beri label sehingga memungkinkan kita menghasilkan data keluaran yang efektif\n",
    "contoh: Pada sebuah Keranjang A dan b,A berisi buah apel,dan B berisi jeruk,saya ingin melatih data atau data training yang saya sudah saya beri label,saya ingin melatih data tersebut agar dapat membedakan antara kedua buah tersebut berdasarkan karateristik dari dua buah tersebut\n",
    "\n",
    "sedangkan unsupervised learning di gunakan untuk mempelajari karakteristik data tanpa menggunakan label yang di sediakan\n",
    "contoh nya: saya mempunyai keranjang yang berisi buah strowbary dan buah nanas yang tidak saya beri label,untuk data tersebut saya ingin melakukan pendekatan dengan algoritma kmeans kalstering pada keranjang B,saya menentukan berapa jenis buah yang ada di dalam keranjang yang saya punya,jika jenis buah yang ada di dalam keranajang saya ada 2,maka algoritma akan memisahkan menjadi dua claster,yaitu claster x dan y,lalu setiap claster tinggal saya beri label"
   ]
  },
  {
   "cell_type": "markdown",
   "id": "09d978dc",
   "metadata": {},
   "source": [
    "2. Sebutkan tiap tahap yang ada mashine learning life circle dan jelaskan"
   ]
  },
  {
   "cell_type": "markdown",
   "id": "e75ad5c0",
   "metadata": {},
   "source": [
    "-indentifikasi masalah\n",
    "    berguna untuk mengetahui masalah yang akan di selesaikan oleh mashine dan mengetahui pemodel apa yang cocok\n",
    "    \n",
    "    \n",
    "-mengumpulkan dan mempersiapkan data\n",
    "    data yang berguna untuk mengajarkan mashine learning dalam hal training data,validation data,dan test data      untukprediksi\n",
    "\n",
    "-Seleksi Algoritma untuk solusi\n",
    "    Tahapan ini melibatkan pemilihan algoritma dan representasi data yang sesuai dalam bentuk model. Data yang disiapkan dibagi menjadi dua bagian, yaitu data training dan testing. \n",
    "\n",
    "-Evaluasi dan perbaikan terhadap mode\n",
    "    Setelah memiliki model Machine Learning dan model tersebut dapat digunakan untuk memprediksi data tes, langkah terakhir adalah kita harus menganalisa performa model dan melakukan evaluasi dari model tersebut. Untuk menguji keakuratan dan performa dari model digunakan data testing"
   ]
  },
  {
   "cell_type": "markdown",
   "id": "48a03826",
   "metadata": {},
   "source": [
    "3. Apa perbedaan regression dengan clusterring?"
   ]
  },
  {
   "cell_type": "markdown",
   "id": "79724bbd",
   "metadata": {},
   "source": [
    "regresi adalah suatu teknik analisis untuk mengidentifikasi relasi atau hubungan di antara dua variabel atau lebih,regrsi bertujuan untuk menemukan suatu fungsi yang memodelkan data dengan meminimalkan error\n",
    "di gunakan untuk mempredisksi harga,,dengan membuat model regresi dari data sebelumnya\n",
    "\n",
    "sedangkan clusterring merupakan sebuah kumpulan data atau object yang memiliki kemiripan satu sama lain di dalam kumpulan atau kelompok tersebut,dan berbeda dengan object di kelompok lain\n",
    "biasanya di gunakan untuk membuat segmentasi"
   ]
  },
  {
   "cell_type": "markdown",
   "id": "618ad735",
   "metadata": {},
   "source": [
    "4. Apa itu algoritma Artificial Neural Network dan untuk apa fungsinya?"
   ]
  },
  {
   "cell_type": "markdown",
   "id": "7c1bf396",
   "metadata": {},
   "source": [
    "Artificial Neural Network adalah set algoritma yang berkerja seperti jaringan saraf otak manusia, dimana neuron saling terhubung satu dengan lainya, bekerja untuk memproses informasi\n",
    "\n",
    "fungsi nya untuk menirukan syaraf manusia agar memiliki kemampuan untuk belajar,,kemampuan problem solving seperti manusia biasa"
   ]
  }
 ],
 "metadata": {
  "kernelspec": {
   "display_name": "Python 3",
   "language": "python",
   "name": "python3"
  },
  "language_info": {
   "codemirror_mode": {
    "name": "ipython",
    "version": 3
   },
   "file_extension": ".py",
   "mimetype": "text/x-python",
   "name": "python",
   "nbconvert_exporter": "python",
   "pygments_lexer": "ipython3",
   "version": "3.6.9"
  }
 },
 "nbformat": 4,
 "nbformat_minor": 5
}
