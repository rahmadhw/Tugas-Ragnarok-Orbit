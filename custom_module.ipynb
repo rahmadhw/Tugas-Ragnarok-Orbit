{
 "cells": [
  {
   "cell_type": "code",
   "execution_count": 1,
   "id": "ba276cf5",
   "metadata": {},
   "outputs": [],
   "source": [
    "import module as md"
   ]
  },
  {
   "cell_type": "code",
   "execution_count": 2,
   "id": "9598494f",
   "metadata": {},
   "outputs": [
    {
     "name": "stdout",
     "output_type": "stream",
     "text": [
      "Nama Saya Budiman\n"
     ]
    }
   ],
   "source": [
    "md.Panggilan()"
   ]
  },
  {
   "cell_type": "code",
   "execution_count": 3,
   "id": "f4646f46",
   "metadata": {},
   "outputs": [
    {
     "name": "stdout",
     "output_type": "stream",
     "text": [
      "Saya jerapah\n"
     ]
    }
   ],
   "source": [
    "md.Hewan()"
   ]
  },
  {
   "cell_type": "code",
   "execution_count": 3,
   "id": "a70b2b44",
   "metadata": {},
   "outputs": [
    {
     "name": "stdout",
     "output_type": "stream",
     "text": [
      "hasil pertambahan dari 5+5 = 10\n"
     ]
    }
   ],
   "source": [
    "md.Kalkulasi(5,5)"
   ]
  }
 ],
 "metadata": {
  "kernelspec": {
   "display_name": "Python 3 (ipykernel)",
   "language": "python",
   "name": "python3"
  },
  "language_info": {
   "codemirror_mode": {
    "name": "ipython",
    "version": 3
   },
   "file_extension": ".py",
   "mimetype": "text/x-python",
   "name": "python",
   "nbconvert_exporter": "python",
   "pygments_lexer": "ipython3",
   "version": "3.9.7"
  }
 },
 "nbformat": 4,
 "nbformat_minor": 5
}
